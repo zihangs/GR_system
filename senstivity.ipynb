{
 "cells": [
  {
   "cell_type": "code",
   "execution_count": 1,
   "metadata": {},
   "outputs": [],
   "source": [
    "from ema_workbench import (RealParameter, IntegerParameter, ScalarOutcome, Constant,\n",
    "                           Model, ema_logging, perform_experiments)\n",
    "\n",
    "#from dps_lake_model import lake_model\n",
    "\n",
    "import os\n",
    "import subprocess\n",
    "import numpy as np\n",
    "import pandas as pd\n",
    "import seaborn as sns\n",
    "import matplotlib.pyplot as plt"
   ]
  },
  {
   "cell_type": "code",
   "execution_count": 2,
   "metadata": {},
   "outputs": [],
   "source": [
    "def func_precision(stringList, answer):\n",
    "    goal_count = 0\n",
    "    found = 0\n",
    "    for result in stringList:\n",
    "        if result == str(answer):\n",
    "            found = 1\n",
    "        goal_count += 1\n",
    "    return found/(goal_count-1)\n",
    "\n",
    "def func_recall(stringList, answer):\n",
    "    found = 0\n",
    "    for result in stringList:\n",
    "        if result == str(answer):\n",
    "            found = 1\n",
    "            break\n",
    "    return found\n",
    "\n",
    "def func_accuracy(total, stringList, answer):\n",
    "    tp = 0\n",
    "    tn = 0\n",
    "    fp = 0\n",
    "    fn = 0\n",
    "    for result in stringList[0:-1]:\n",
    "        if result == str(answer):\n",
    "            tp += 1\n",
    "        else:\n",
    "            fp += 1\n",
    "    \n",
    "    fn = 1 - tp\n",
    "    \n",
    "    # total is the number of all goals\n",
    "    tn = total - tp - fp - fn\n",
    "    return (tp + tn)/(tn + tp + fp + fn)\n",
    "\n",
    "\n",
    "def calculate_statistics():\n",
    "    data = pd.read_csv(\"./outputs/sokoban.csv\")\n",
    "    length = data.shape[0]\n",
    "    num = 0\n",
    "    \n",
    "    precision = 0\n",
    "    recall = 0\n",
    "    accuracy = 0\n",
    "    \n",
    "    for index in range(length):\n",
    "\n",
    "        answer = data.loc[index, \"Real_Goal\"]\n",
    "        results = data.loc[index, \"Results\"].split(\"/\")\n",
    "        all_candidates = data.loc[index, \"Cost\"].split(\"/\")\n",
    "        \n",
    "        total = len(all_candidates)-1   # the last one is /\n",
    "        \n",
    "        p = func_precision(results, answer)\n",
    "        r = func_recall(results, answer)\n",
    "        a = func_accuracy(total, results, answer)\n",
    "        \n",
    "        num += 1\n",
    "        \n",
    "        precision += p\n",
    "        recall += r\n",
    "        accuracy += a\n",
    "        \n",
    "    num += 1\n",
    "    precision = precision/num\n",
    "    recall = recall/num\n",
    "    accuracy = accuracy/num \n",
    "    \n",
    "    return precision, recall, accuracy\n",
    "        \n",
    "    \n",
    "    \n",
    "\n",
    "def gr_system(phi, lamb, delta):\n",
    "    # run GR with phi lamb delta\n",
    "    os.chdir(\"./tools/\")\n",
    "    os.system(\"java -jar gr_ipc.jar ../gene_data/ sokoban %s %s %s\" %(str(phi), str(lamb), str(delta)))\n",
    "    os.chdir(\"../\")\n",
    "    # calculate p r a\n",
    "    \n",
    "    # print(\"passed\")\n",
    "    precision, recall, accuracy = calculate_statistics()\n",
    "    \n",
    "    return precision, recall, accuracy\n",
    "    "
   ]
  },
  {
   "cell_type": "code",
   "execution_count": 3,
   "metadata": {
    "scrolled": true
   },
   "outputs": [
    {
     "name": "stderr",
     "output_type": "stream",
     "text": [
      "[EMA.ema_workbench.em_framework.evaluators/INFO/MainProcess] performing 100 scenarios * 1 policies * 1 model(s) = 100 experiments\n",
      "[EMA.ema_workbench.em_framework.evaluators/INFO/MainProcess] performing experiments sequentially\n",
      "[EMA.ema_workbench.em_framework.callbacks/INFO/MainProcess] 10 cases completed\n",
      "[EMA.ema_workbench.em_framework.callbacks/INFO/MainProcess] 20 cases completed\n",
      "[EMA.ema_workbench.em_framework.callbacks/INFO/MainProcess] 30 cases completed\n",
      "[EMA.ema_workbench.em_framework.callbacks/INFO/MainProcess] 40 cases completed\n",
      "[EMA.ema_workbench.em_framework.callbacks/INFO/MainProcess] 50 cases completed\n",
      "[EMA.ema_workbench.em_framework.callbacks/INFO/MainProcess] 60 cases completed\n",
      "[EMA.ema_workbench.em_framework.callbacks/INFO/MainProcess] 70 cases completed\n",
      "[EMA.ema_workbench.em_framework.callbacks/INFO/MainProcess] 80 cases completed\n",
      "[EMA.ema_workbench.em_framework.callbacks/INFO/MainProcess] 90 cases completed\n",
      "[EMA.ema_workbench.em_framework.callbacks/INFO/MainProcess] 100 cases completed\n",
      "[EMA.ema_workbench.em_framework.evaluators/INFO/MainProcess] experiments finished\n"
     ]
    }
   ],
   "source": [
    "ema_logging.LOG_FORMAT = '[%(name)s/%(levelname)s/%(processName)s] %(message)s'\n",
    "ema_logging.log_to_stderr(ema_logging.INFO)\n",
    "    \n",
    "model = Model('grsystem', function=gr_system)\n",
    "\n",
    "# set levers\n",
    "model.uncertainties = [IntegerParameter(\"phi\", 0,100),\n",
    "                RealParameter(\"delta\", 0, 2),\n",
    "                RealParameter(\"lamb\", 1, 2)]\n",
    "\n",
    "#specify outcomes\n",
    "model.outcomes = [ScalarOutcome('precision'),\n",
    "                  ScalarOutcome('recall'),\n",
    "                  ScalarOutcome('accuracy')]\n",
    "\n",
    "results = perform_experiments(model, 100)"
   ]
  },
  {
   "cell_type": "code",
   "execution_count": 4,
   "metadata": {},
   "outputs": [
    {
     "name": "stderr",
     "output_type": "stream",
     "text": [
      "[EMA.ema_workbench.analysis.feature_scoring/INFO/MainProcess] policy dropped from analysis because only a single category\n",
      "[EMA.ema_workbench.analysis.feature_scoring/INFO/MainProcess] model dropped from analysis because only a single category\n",
      "[EMA.ema_workbench.analysis.feature_scoring/INFO/MainProcess] policy dropped from analysis because only a single category\n",
      "[EMA.ema_workbench.analysis.feature_scoring/INFO/MainProcess] model dropped from analysis because only a single category\n",
      "[EMA.ema_workbench.analysis.feature_scoring/INFO/MainProcess] policy dropped from analysis because only a single category\n",
      "[EMA.ema_workbench.analysis.feature_scoring/INFO/MainProcess] model dropped from analysis because only a single category\n"
     ]
    },
    {
     "data": {
      "image/png": "[encoded data removed]",
      "text/plain": [
       "<Figure size 432x288 with 2 Axes>"
      ]
     },
     "metadata": {
      "needs_background": "light"
     },
     "output_type": "display_data"
    }
   ],
   "source": [
    "from ema_workbench.analysis import feature_scoring\n",
    "experiments, outcomes = results\n",
    "x = experiments\n",
    "y = outcomes\n",
    "\n",
    "fs = feature_scoring.get_feature_scores_all(x, y)\n",
    "sns.heatmap(fs, cmap='viridis', annot=True)\n",
    "plt.show()"
   ]
  },
  {
   "cell_type": "code",
   "execution_count": 5,
   "metadata": {},
   "outputs": [
    {
     "name": "stderr",
     "output_type": "stream",
     "text": [
      "[EMA.ema_workbench.analysis.plotting_util/INFO/MainProcess] no time dimension found in results\n"
     ]
    },
    {
     "data": {
      "image/png": "[encoded data removed]",
      "text/plain": [
       "<Figure size 576x576 with 9 Axes>"
      ]
     },
     "metadata": {
      "needs_background": "light"
     },
     "output_type": "display_data"
    }
   ],
   "source": [
    "from ema_workbench.analysis import pairs_plotting\n",
    "\n",
    "fig, axes = pairs_plotting.pairs_scatter(experiments, outcomes, group_by='policy',\n",
    "                                         legend=False)\n",
    "fig.set_size_inches(8,8)\n",
    "plt.show()"
   ]
  },
  {
   "cell_type": "code",
   "execution_count": 6,
   "metadata": {},
   "outputs": [
    {
     "name": "stderr",
     "output_type": "stream",
     "text": [
      "[EMA.ema_workbench.util.utilities/INFO/MainProcess] results saved successfully to /Users/zihangs/eclipse-workspace/GR_system/100_scenarios_sokoban.tar.gz\n"
     ]
    }
   ],
   "source": [
    "from ema_workbench import save_results\n",
    "save_results(results, '100_scenarios_sokoban.tar.gz')\n",
    "\n",
    "#from ema_workbench import load_results\n",
    "#results = load_results('100_scenarios_blocks_world.tar.gz')"
   ]
  },
  {
   "cell_type": "code",
   "execution_count": 8,
   "metadata": {},
   "outputs": [
    {
     "name": "stderr",
     "output_type": "stream",
     "text": [
      "[EMA.ema_workbench.em_framework.evaluators/INFO/MainProcess] performing 320 scenarios * 1 policies * 1 model(s) = 320 experiments\n",
      "[EMA.ema_workbench.em_framework.evaluators/INFO/MainProcess] performing experiments sequentially\n",
      "[EMA.ema_workbench.em_framework.callbacks/INFO/MainProcess] 32 cases completed\n",
      "[EMA.ema_workbench.em_framework.callbacks/INFO/MainProcess] 64 cases completed\n",
      "[EMA.ema_workbench.em_framework.callbacks/INFO/MainProcess] 96 cases completed\n",
      "[EMA.ema_workbench.em_framework.callbacks/INFO/MainProcess] 128 cases completed\n",
      "[EMA.ema_workbench.em_framework.callbacks/INFO/MainProcess] 160 cases completed\n",
      "[EMA.ema_workbench.em_framework.callbacks/INFO/MainProcess] 192 cases completed\n",
      "[EMA.ema_workbench.em_framework.callbacks/INFO/MainProcess] 224 cases completed\n",
      "[EMA.ema_workbench.em_framework.callbacks/INFO/MainProcess] 256 cases completed\n",
      "[EMA.ema_workbench.em_framework.callbacks/INFO/MainProcess] 288 cases completed\n",
      "[EMA.ema_workbench.em_framework.callbacks/INFO/MainProcess] 320 cases completed\n",
      "[EMA.ema_workbench.em_framework.evaluators/INFO/MainProcess] experiments finished\n",
      "[EMA.ema_workbench.util.utilities/INFO/MainProcess] results saved successfully to /Users/zihangs/eclipse-workspace/GR_system/40_scenarios_sokoban_sobol.tar.gz\n"
     ]
    }
   ],
   "source": [
    "from SALib.analyze import sobol\n",
    "from ema_workbench.em_framework.salib_samplers import get_SALib_problem\n",
    "from ema_workbench import (MultiprocessingEvaluator, ema_logging,\n",
    "                           perform_experiments)\n",
    "\n",
    "ema_logging.log_to_stderr(ema_logging.INFO)\n",
    "\n",
    "\n",
    "sa_results = perform_experiments(model, scenarios=40, uncertainty_sampling='sobol')\n",
    "\n",
    "experiments, outcomes = sa_results\n",
    "save_results(results, '40_scenarios_sokoban_sobol.tar.gz')"
   ]
  },
  {
   "cell_type": "code",
   "execution_count": 9,
   "metadata": {
    "scrolled": true
   },
   "outputs": [
    {
     "data": {
      "image/png": "[encoded data removed]",
      "text/plain": [
       "<Figure size 576x432 with 1 Axes>"
      ]
     },
     "metadata": {},
     "output_type": "display_data"
    }
   ],
   "source": [
    "problem = get_SALib_problem(model.uncertainties)\n",
    "Si = sobol.analyze(problem, outcomes['accuracy'],\n",
    "                   calc_second_order=True, print_to_console=False)\n",
    "\n",
    "scores_filtered = {k:Si[k] for k in ['ST','ST_conf','S1','S1_conf']}\n",
    "Si_df = pd.DataFrame(scores_filtered, index=problem['names'])\n",
    "\n",
    "sns.set_style('white')\n",
    "fig, ax = plt.subplots(1)\n",
    "\n",
    "indices = Si_df[['S1','ST']]\n",
    "err = Si_df[['S1_conf','ST_conf']]\n",
    "\n",
    "indices.plot.bar(yerr=err.values.T,ax=ax)\n",
    "fig.set_size_inches(8,6)\n",
    "fig.subplots_adjust(bottom=0.3)\n",
    "plt.show()"
   ]
  },
  {
   "cell_type": "code",
   "execution_count": null,
   "metadata": {},
   "outputs": [],
   "source": []
  },
  {
   "cell_type": "code",
   "execution_count": null,
   "metadata": {},
   "outputs": [],
   "source": []
  },
  {
   "cell_type": "code",
   "execution_count": null,
   "metadata": {},
   "outputs": [],
   "source": []
  },
  {
   "cell_type": "code",
   "execution_count": null,
   "metadata": {},
   "outputs": [],
   "source": []
  },
  {
   "cell_type": "code",
   "execution_count": null,
   "metadata": {},
   "outputs": [],
   "source": []
  }
 ],
 "metadata": {
  "kernelspec": {
   "display_name": "Python 3",
   "language": "python",
   "name": "python3"
  },
  "language_info": {
   "codemirror_mode": {
    "name": "ipython",
    "version": 3
   },
   "file_extension": ".py",
   "mimetype": "text/x-python",
   "name": "python",
   "nbconvert_exporter": "python",
   "pygments_lexer": "ipython3",
   "version": "3.8.6"
  }
 },
 "nbformat": 4,
 "nbformat_minor": 4
}
