{
 "cells": [
  {
   "cell_type": "code",
   "execution_count": 1,
   "metadata": {},
   "outputs": [],
   "source": [
    "from ema_workbench import (RealParameter, IntegerParameter, ScalarOutcome, Constant,\n",
    "                           Model, ema_logging, perform_experiments)\n",
    "\n",
    "#from dps_lake_model import lake_model\n",
    "\n",
    "import os\n",
    "import subprocess\n",
    "import numpy as np\n",
    "import pandas as pd\n",
    "import seaborn as sns\n",
    "import matplotlib.pyplot as plt"
   ]
  },
  {
   "cell_type": "code",
   "execution_count": 2,
   "metadata": {},
   "outputs": [
    {
     "data": {
      "text/plain": [
       "'Dockerfile\\nIPC.ipynb\\nREADME.md\\ngene_data\\njdk-11.0.9_linux-x64_bin.tar.gz\\noutputs\\nsenstivity.ipynb\\ntools'"
      ]
     },
     "execution_count": 2,
     "metadata": {},
     "output_type": "execute_result"
    }
   ],
   "source": [
    "subprocess.getoutput('ls')"
   ]
  },
  {
   "cell_type": "code",
   "execution_count": 3,
   "metadata": {},
   "outputs": [],
   "source": [
    "def func_precision(stringList, answer):\n",
    "    goal_count = 0\n",
    "    found = 0\n",
    "    for result in stringList:\n",
    "        if result == str(answer):\n",
    "            found = 1\n",
    "        goal_count += 1\n",
    "    return found/(goal_count-1)\n",
    "\n",
    "def func_recall(stringList, answer):\n",
    "    found = 0\n",
    "    for result in stringList:\n",
    "        if result == str(answer):\n",
    "            found = 1\n",
    "            break\n",
    "    return found\n",
    "\n",
    "def func_accuracy(total, stringList, answer):\n",
    "    tp = 0\n",
    "    tn = 0\n",
    "    fp = 0\n",
    "    fn = 0\n",
    "    for result in stringList[0:-1]:\n",
    "        if result == str(answer):\n",
    "            tp += 1\n",
    "        else:\n",
    "            fp += 1\n",
    "    \n",
    "    fn = 1 - tp\n",
    "    \n",
    "    # total is the number of all goals\n",
    "    tn = total - tp - fp - fn\n",
    "    return (tp + tn)/(tn + tp + fp + fn)\n",
    "\n",
    "\n",
    "def calculate_statistics():\n",
    "    data = pd.read_csv(\"./outputs/blocks-world.csv\")\n",
    "    length = data.shape[0]\n",
    "    num = 0\n",
    "    \n",
    "    precision = 0\n",
    "    recall = 0\n",
    "    accuracy = 0\n",
    "    \n",
    "    for index in range(length):\n",
    "\n",
    "        answer = data.loc[index, \"Real_Goal\"]\n",
    "        results = data.loc[index, \"Results\"].split(\"/\")\n",
    "        all_candidates = data.loc[index, \"Cost\"].split(\"/\")\n",
    "        \n",
    "        total = len(all_candidates)-1   # the last one is /\n",
    "        \n",
    "        p = func_precision(results, answer)\n",
    "        r = func_recall(results, answer)\n",
    "        a = func_accuracy(total, results, answer)\n",
    "        \n",
    "        num += 1\n",
    "        \n",
    "        precision += p\n",
    "        recall += r\n",
    "        accuracy += a\n",
    "        \n",
    "    num += 1\n",
    "    precision = precision/num\n",
    "    recall = recall/num\n",
    "    accuracy = accuracy/num \n",
    "    \n",
    "    return precision, recall, accuracy\n",
    "        \n",
    "    \n",
    "    \n",
    "\n",
    "def gr_system(phi, lamb, delta):\n",
    "    # run GR with phi lamb delta\n",
    "    os.chdir(\"./tools/\")\n",
    "    os.system(\"java -jar gr_ipc.jar ../gene_data/ blocks-world %s %s %s\" %(str(phi), str(lamb), str(delta)))\n",
    "    os.chdir(\"../\")\n",
    "    # calculate p r a\n",
    "    \n",
    "    # print(\"passed\")\n",
    "    precision, recall, accuracy = calculate_statistics()\n",
    "    \n",
    "    return precision, recall, accuracy\n",
    "    "
   ]
  },
  {
   "cell_type": "code",
   "execution_count": 4,
   "metadata": {},
   "outputs": [
    {
     "name": "stderr",
     "output_type": "stream",
     "text": [
      "[EMA.ema_workbench.em_framework.evaluators/INFO/MainProcess] performing 100 scenarios * 1 policies * 1 model(s) = 100 experiments\n",
      "[EMA.ema_workbench.em_framework.evaluators/INFO/MainProcess] performing experiments sequentially\n",
      "[EMA.ema_workbench.em_framework.experiment_runner/ERROR/MainProcess] 'float' object has no attribute 'split'\n",
      "Traceback (most recent call last):\n",
      "  File \"/usr/local/lib/python3.8/dist-packages/ema_workbench/em_framework/experiment_runner.py\", line 85, in run_experiment\n",
      "    model.run_model(scenario, policy)\n",
      "  File \"/usr/local/lib/python3.8/dist-packages/ema_workbench/util/ema_logging.py\", line 158, in wrapper\n",
      "    res = func(*args, **kwargs)\n",
      "  File \"/usr/local/lib/python3.8/dist-packages/ema_workbench/em_framework/model.py\", line 338, in run_model\n",
      "    outputs = self.run_experiment(experiment)\n",
      "  File \"/usr/local/lib/python3.8/dist-packages/ema_workbench/util/ema_logging.py\", line 158, in wrapper\n",
      "    res = func(*args, **kwargs)\n",
      "  File \"/usr/local/lib/python3.8/dist-packages/ema_workbench/em_framework/model.py\", line 391, in run_experiment\n",
      "    model_output = self.function(**experiment)\n",
      "  File \"<ipython-input-3-281df120025c>\", line 81, in gr_system\n",
      "    precision, recall, accuracy = calculate_statistics()\n",
      "  File \"<ipython-input-3-281df120025c>\", line 48, in calculate_statistics\n",
      "    results = data.loc[index, \"Results\"].split(\"/\")\n",
      "AttributeError: 'float' object has no attribute 'split'\n"
     ]
    },
    {
     "ename": "EMAError",
     "evalue": "exception in run_model\nCaused by: AttributeError: 'float' object has no attribute 'split'",
     "output_type": "error",
     "traceback": [
      "\u001b[0;31m---------------------------------------------------------------------------\u001b[0m",
      "\u001b[0;31mAttributeError\u001b[0m                            Traceback (most recent call last)",
      "\u001b[0;32m/usr/local/lib/python3.8/dist-packages/ema_workbench/em_framework/experiment_runner.py\u001b[0m in \u001b[0;36mrun_experiment\u001b[0;34m(self, experiment)\u001b[0m\n\u001b[1;32m     84\u001b[0m         \u001b[0;32mtry\u001b[0m\u001b[0;34m:\u001b[0m\u001b[0;34m\u001b[0m\u001b[0;34m\u001b[0m\u001b[0m\n\u001b[0;32m---> 85\u001b[0;31m             \u001b[0mmodel\u001b[0m\u001b[0;34m.\u001b[0m\u001b[0mrun_model\u001b[0m\u001b[0;34m(\u001b[0m\u001b[0mscenario\u001b[0m\u001b[0;34m,\u001b[0m \u001b[0mpolicy\u001b[0m\u001b[0;34m)\u001b[0m\u001b[0;34m\u001b[0m\u001b[0;34m\u001b[0m\u001b[0m\n\u001b[0m\u001b[1;32m     86\u001b[0m         \u001b[0;32mexcept\u001b[0m \u001b[0mCaseError\u001b[0m \u001b[0;32mas\u001b[0m \u001b[0me\u001b[0m\u001b[0;34m:\u001b[0m\u001b[0;34m\u001b[0m\u001b[0;34m\u001b[0m\u001b[0m\n",
      "\u001b[0;32m/usr/local/lib/python3.8/dist-packages/ema_workbench/util/ema_logging.py\u001b[0m in \u001b[0;36mwrapper\u001b[0;34m(*args, **kwargs)\u001b[0m\n\u001b[1;32m    157\u001b[0m             \u001b[0mlogger\u001b[0m\u001b[0;34m.\u001b[0m\u001b[0mdebug\u001b[0m\u001b[0;34m(\u001b[0m\u001b[0;34m'calling {} on {}'\u001b[0m\u001b[0;34m.\u001b[0m\u001b[0mformat\u001b[0m\u001b[0;34m(\u001b[0m\u001b[0mfunc\u001b[0m\u001b[0;34m.\u001b[0m\u001b[0m__name__\u001b[0m\u001b[0;34m,\u001b[0m \u001b[0mclassname\u001b[0m\u001b[0;34m)\u001b[0m\u001b[0;34m)\u001b[0m\u001b[0;34m\u001b[0m\u001b[0;34m\u001b[0m\u001b[0m\n\u001b[0;32m--> 158\u001b[0;31m             \u001b[0mres\u001b[0m \u001b[0;34m=\u001b[0m \u001b[0mfunc\u001b[0m\u001b[0;34m(\u001b[0m\u001b[0;34m*\u001b[0m\u001b[0margs\u001b[0m\u001b[0;34m,\u001b[0m \u001b[0;34m**\u001b[0m\u001b[0mkwargs\u001b[0m\u001b[0;34m)\u001b[0m\u001b[0;34m\u001b[0m\u001b[0;34m\u001b[0m\u001b[0m\n\u001b[0m\u001b[1;32m    159\u001b[0m             logger.debug(\n",
      "\u001b[0;32m/usr/local/lib/python3.8/dist-packages/ema_workbench/em_framework/model.py\u001b[0m in \u001b[0;36mrun_model\u001b[0;34m(self, scenario, policy)\u001b[0m\n\u001b[1;32m    337\u001b[0m \u001b[0;34m\u001b[0m\u001b[0m\n\u001b[0;32m--> 338\u001b[0;31m         \u001b[0moutputs\u001b[0m \u001b[0;34m=\u001b[0m \u001b[0mself\u001b[0m\u001b[0;34m.\u001b[0m\u001b[0mrun_experiment\u001b[0m\u001b[0;34m(\u001b[0m\u001b[0mexperiment\u001b[0m\u001b[0;34m)\u001b[0m\u001b[0;34m\u001b[0m\u001b[0;34m\u001b[0m\u001b[0m\n\u001b[0m\u001b[1;32m    339\u001b[0m \u001b[0;34m\u001b[0m\u001b[0m\n",
      "\u001b[0;32m/usr/local/lib/python3.8/dist-packages/ema_workbench/util/ema_logging.py\u001b[0m in \u001b[0;36mwrapper\u001b[0;34m(*args, **kwargs)\u001b[0m\n\u001b[1;32m    157\u001b[0m             \u001b[0mlogger\u001b[0m\u001b[0;34m.\u001b[0m\u001b[0mdebug\u001b[0m\u001b[0;34m(\u001b[0m\u001b[0;34m'calling {} on {}'\u001b[0m\u001b[0;34m.\u001b[0m\u001b[0mformat\u001b[0m\u001b[0;34m(\u001b[0m\u001b[0mfunc\u001b[0m\u001b[0;34m.\u001b[0m\u001b[0m__name__\u001b[0m\u001b[0;34m,\u001b[0m \u001b[0mclassname\u001b[0m\u001b[0;34m)\u001b[0m\u001b[0;34m)\u001b[0m\u001b[0;34m\u001b[0m\u001b[0;34m\u001b[0m\u001b[0m\n\u001b[0;32m--> 158\u001b[0;31m             \u001b[0mres\u001b[0m \u001b[0;34m=\u001b[0m \u001b[0mfunc\u001b[0m\u001b[0;34m(\u001b[0m\u001b[0;34m*\u001b[0m\u001b[0margs\u001b[0m\u001b[0;34m,\u001b[0m \u001b[0;34m**\u001b[0m\u001b[0mkwargs\u001b[0m\u001b[0;34m)\u001b[0m\u001b[0;34m\u001b[0m\u001b[0;34m\u001b[0m\u001b[0m\n\u001b[0m\u001b[1;32m    159\u001b[0m             logger.debug(\n",
      "\u001b[0;32m/usr/local/lib/python3.8/dist-packages/ema_workbench/em_framework/model.py\u001b[0m in \u001b[0;36mrun_experiment\u001b[0;34m(self, experiment)\u001b[0m\n\u001b[1;32m    390\u001b[0m         \"\"\"\n\u001b[0;32m--> 391\u001b[0;31m         \u001b[0mmodel_output\u001b[0m \u001b[0;34m=\u001b[0m \u001b[0mself\u001b[0m\u001b[0;34m.\u001b[0m\u001b[0mfunction\u001b[0m\u001b[0;34m(\u001b[0m\u001b[0;34m**\u001b[0m\u001b[0mexperiment\u001b[0m\u001b[0;34m)\u001b[0m\u001b[0;34m\u001b[0m\u001b[0;34m\u001b[0m\u001b[0m\n\u001b[0m\u001b[1;32m    392\u001b[0m \u001b[0;34m\u001b[0m\u001b[0m\n",
      "\u001b[0;32m<ipython-input-3-281df120025c>\u001b[0m in \u001b[0;36mgr_system\u001b[0;34m(phi, lamb, delta)\u001b[0m\n\u001b[1;32m     80\u001b[0m     \u001b[0;31m# print(\"passed\")\u001b[0m\u001b[0;34m\u001b[0m\u001b[0;34m\u001b[0m\u001b[0;34m\u001b[0m\u001b[0m\n\u001b[0;32m---> 81\u001b[0;31m     \u001b[0mprecision\u001b[0m\u001b[0;34m,\u001b[0m \u001b[0mrecall\u001b[0m\u001b[0;34m,\u001b[0m \u001b[0maccuracy\u001b[0m \u001b[0;34m=\u001b[0m \u001b[0mcalculate_statistics\u001b[0m\u001b[0;34m(\u001b[0m\u001b[0;34m)\u001b[0m\u001b[0;34m\u001b[0m\u001b[0;34m\u001b[0m\u001b[0m\n\u001b[0m\u001b[1;32m     82\u001b[0m \u001b[0;34m\u001b[0m\u001b[0m\n",
      "\u001b[0;32m<ipython-input-3-281df120025c>\u001b[0m in \u001b[0;36mcalculate_statistics\u001b[0;34m()\u001b[0m\n\u001b[1;32m     47\u001b[0m         \u001b[0manswer\u001b[0m \u001b[0;34m=\u001b[0m \u001b[0mdata\u001b[0m\u001b[0;34m.\u001b[0m\u001b[0mloc\u001b[0m\u001b[0;34m[\u001b[0m\u001b[0mindex\u001b[0m\u001b[0;34m,\u001b[0m \u001b[0;34m\"Real_Goal\"\u001b[0m\u001b[0;34m]\u001b[0m\u001b[0;34m\u001b[0m\u001b[0;34m\u001b[0m\u001b[0m\n\u001b[0;32m---> 48\u001b[0;31m         \u001b[0mresults\u001b[0m \u001b[0;34m=\u001b[0m \u001b[0mdata\u001b[0m\u001b[0;34m.\u001b[0m\u001b[0mloc\u001b[0m\u001b[0;34m[\u001b[0m\u001b[0mindex\u001b[0m\u001b[0;34m,\u001b[0m \u001b[0;34m\"Results\"\u001b[0m\u001b[0;34m]\u001b[0m\u001b[0;34m.\u001b[0m\u001b[0msplit\u001b[0m\u001b[0;34m(\u001b[0m\u001b[0;34m\"/\"\u001b[0m\u001b[0;34m)\u001b[0m\u001b[0;34m\u001b[0m\u001b[0;34m\u001b[0m\u001b[0m\n\u001b[0m\u001b[1;32m     49\u001b[0m         \u001b[0mall_candidates\u001b[0m \u001b[0;34m=\u001b[0m \u001b[0mdata\u001b[0m\u001b[0;34m.\u001b[0m\u001b[0mloc\u001b[0m\u001b[0;34m[\u001b[0m\u001b[0mindex\u001b[0m\u001b[0;34m,\u001b[0m \u001b[0;34m\"Cost\"\u001b[0m\u001b[0;34m]\u001b[0m\u001b[0;34m.\u001b[0m\u001b[0msplit\u001b[0m\u001b[0;34m(\u001b[0m\u001b[0;34m\"/\"\u001b[0m\u001b[0;34m)\u001b[0m\u001b[0;34m\u001b[0m\u001b[0;34m\u001b[0m\u001b[0m\n",
      "\u001b[0;31mAttributeError\u001b[0m: 'float' object has no attribute 'split'",
      "\nDuring handling of the above exception, another exception occurred:\n",
      "\u001b[0;31mEMAError\u001b[0m                                  Traceback (most recent call last)",
      "\u001b[0;32m<ipython-input-4-27559d4a6a6d>\u001b[0m in \u001b[0;36m<module>\u001b[0;34m\u001b[0m\n\u001b[1;32m     14\u001b[0m                   ScalarOutcome('accuracy')]\n\u001b[1;32m     15\u001b[0m \u001b[0;34m\u001b[0m\u001b[0m\n\u001b[0;32m---> 16\u001b[0;31m \u001b[0mresults\u001b[0m \u001b[0;34m=\u001b[0m \u001b[0mperform_experiments\u001b[0m\u001b[0;34m(\u001b[0m\u001b[0mmodel\u001b[0m\u001b[0;34m,\u001b[0m \u001b[0;36m100\u001b[0m\u001b[0;34m)\u001b[0m\u001b[0;34m\u001b[0m\u001b[0;34m\u001b[0m\u001b[0m\n\u001b[0m",
      "\u001b[0;32m/usr/local/lib/python3.8/dist-packages/ema_workbench/em_framework/evaluators.py\u001b[0m in \u001b[0;36mperform_experiments\u001b[0;34m(models, scenarios, policies, evaluator, reporting_interval, reporting_frequency, uncertainty_union, lever_union, outcome_union, uncertainty_sampling, levers_sampling, callback, return_callback)\u001b[0m\n\u001b[1;32m    466\u001b[0m         \u001b[0mevaluator\u001b[0m \u001b[0;34m=\u001b[0m \u001b[0mSequentialEvaluator\u001b[0m\u001b[0;34m(\u001b[0m\u001b[0mmodels\u001b[0m\u001b[0;34m)\u001b[0m\u001b[0;34m\u001b[0m\u001b[0;34m\u001b[0m\u001b[0m\n\u001b[1;32m    467\u001b[0m \u001b[0;34m\u001b[0m\u001b[0m\n\u001b[0;32m--> 468\u001b[0;31m     \u001b[0mevaluator\u001b[0m\u001b[0;34m.\u001b[0m\u001b[0mevaluate_experiments\u001b[0m\u001b[0;34m(\u001b[0m\u001b[0mscenarios\u001b[0m\u001b[0;34m,\u001b[0m \u001b[0mpolicies\u001b[0m\u001b[0;34m,\u001b[0m \u001b[0mcallback\u001b[0m\u001b[0;34m)\u001b[0m\u001b[0;34m\u001b[0m\u001b[0;34m\u001b[0m\u001b[0m\n\u001b[0m\u001b[1;32m    469\u001b[0m \u001b[0;34m\u001b[0m\u001b[0m\n\u001b[1;32m    470\u001b[0m     \u001b[0;32mif\u001b[0m \u001b[0mcallback\u001b[0m\u001b[0;34m.\u001b[0m\u001b[0mi\u001b[0m \u001b[0;34m!=\u001b[0m \u001b[0mnr_of_exp\u001b[0m\u001b[0;34m:\u001b[0m\u001b[0;34m\u001b[0m\u001b[0;34m\u001b[0m\u001b[0m\n",
      "\u001b[0;32m/usr/local/lib/python3.8/dist-packages/ema_workbench/em_framework/evaluators.py\u001b[0m in \u001b[0;36mevaluate_experiments\u001b[0;34m(self, scenarios, policies, callback)\u001b[0m\n\u001b[1;32m    227\u001b[0m \u001b[0;34m\u001b[0m\u001b[0m\n\u001b[1;32m    228\u001b[0m         \u001b[0;32mfor\u001b[0m \u001b[0mexperiment\u001b[0m \u001b[0;32min\u001b[0m \u001b[0mex_gen\u001b[0m\u001b[0;34m:\u001b[0m\u001b[0;34m\u001b[0m\u001b[0;34m\u001b[0m\u001b[0m\n\u001b[0;32m--> 229\u001b[0;31m             \u001b[0moutcomes\u001b[0m \u001b[0;34m=\u001b[0m \u001b[0mrunner\u001b[0m\u001b[0;34m.\u001b[0m\u001b[0mrun_experiment\u001b[0m\u001b[0;34m(\u001b[0m\u001b[0mexperiment\u001b[0m\u001b[0;34m)\u001b[0m\u001b[0;34m\u001b[0m\u001b[0;34m\u001b[0m\u001b[0m\n\u001b[0m\u001b[1;32m    230\u001b[0m             \u001b[0mcallback\u001b[0m\u001b[0;34m(\u001b[0m\u001b[0mexperiment\u001b[0m\u001b[0;34m,\u001b[0m \u001b[0moutcomes\u001b[0m\u001b[0;34m)\u001b[0m\u001b[0;34m\u001b[0m\u001b[0;34m\u001b[0m\u001b[0m\n\u001b[1;32m    231\u001b[0m         \u001b[0mrunner\u001b[0m\u001b[0;34m.\u001b[0m\u001b[0mcleanup\u001b[0m\u001b[0;34m(\u001b[0m\u001b[0;34m)\u001b[0m\u001b[0;34m\u001b[0m\u001b[0;34m\u001b[0m\u001b[0m\n",
      "\u001b[0;32m/usr/local/lib/python3.8/dist-packages/ema_workbench/em_framework/experiment_runner.py\u001b[0m in \u001b[0;36mrun_experiment\u001b[0;34m(self, experiment)\u001b[0m\n\u001b[1;32m     99\u001b[0m \u001b[0;34m\u001b[0m\u001b[0m\n\u001b[1;32m    100\u001b[0m             \u001b[0merrortype\u001b[0m \u001b[0;34m=\u001b[0m \u001b[0mtype\u001b[0m\u001b[0;34m(\u001b[0m\u001b[0me\u001b[0m\u001b[0;34m)\u001b[0m\u001b[0;34m.\u001b[0m\u001b[0m__name__\u001b[0m\u001b[0;34m\u001b[0m\u001b[0;34m\u001b[0m\u001b[0m\n\u001b[0;32m--> 101\u001b[0;31m             raise EMAError((\"exception in run_model\"\n\u001b[0m\u001b[1;32m    102\u001b[0m                             \"\\nCaused by: {}: {}\".format(errortype, str(e))))\n\u001b[1;32m    103\u001b[0m \u001b[0;34m\u001b[0m\u001b[0m\n",
      "\u001b[0;31mEMAError\u001b[0m: exception in run_model\nCaused by: AttributeError: 'float' object has no attribute 'split'"
     ]
    }
   ],
   "source": [
    "ema_logging.LOG_FORMAT = '[%(name)s/%(levelname)s/%(processName)s] %(message)s'\n",
    "ema_logging.log_to_stderr(ema_logging.INFO)\n",
    "    \n",
    "model = Model('grsystem', function=gr_system)\n",
    "\n",
    "# set levers\n",
    "model.uncertainties = [IntegerParameter(\"phi\", 0,100),\n",
    "                RealParameter(\"delta\", 0, 2),\n",
    "                RealParameter(\"lamb\", 1, 2)]\n",
    "\n",
    "#specify outcomes\n",
    "model.outcomes = [ScalarOutcome('precision'),\n",
    "                  ScalarOutcome('recall'),\n",
    "                  ScalarOutcome('accuracy')]\n",
    "\n",
    "results = perform_experiments(model, 100)"
   ]
  },
  {
   "cell_type": "code",
   "execution_count": 17,
   "metadata": {},
   "outputs": [
    {
     "name": "stderr",
     "output_type": "stream",
     "text": [
      "[MainProcess/INFO] policy dropped from analysis because only a single category\n",
      "[EMA.ema_workbench.analysis.feature_scoring/INFO/MainProcess] policy dropped from analysis because only a single category\n",
      "[MainProcess/INFO] model dropped from analysis because only a single category\n",
      "[EMA.ema_workbench.analysis.feature_scoring/INFO/MainProcess] model dropped from analysis because only a single category\n",
      "[MainProcess/INFO] policy dropped from analysis because only a single category\n",
      "[EMA.ema_workbench.analysis.feature_scoring/INFO/MainProcess] policy dropped from analysis because only a single category\n",
      "[MainProcess/INFO] model dropped from analysis because only a single category\n",
      "[EMA.ema_workbench.analysis.feature_scoring/INFO/MainProcess] model dropped from analysis because only a single category\n",
      "[MainProcess/INFO] policy dropped from analysis because only a single category\n",
      "[EMA.ema_workbench.analysis.feature_scoring/INFO/MainProcess] policy dropped from analysis because only a single category\n",
      "[MainProcess/INFO] model dropped from analysis because only a single category\n",
      "[EMA.ema_workbench.analysis.feature_scoring/INFO/MainProcess] model dropped from analysis because only a single category\n"
     ]
    },
    {
     "data": {
      "image/png": "[encoded data removed]",
      "text/plain": [
       "<Figure size 432x288 with 2 Axes>"
      ]
     },
     "metadata": {
      "needs_background": "light"
     },
     "output_type": "display_data"
    }
   ],
   "source": [
    "from ema_workbench.analysis import feature_scoring\n",
    "experiments, outcomes = results\n",
    "x = experiments\n",
    "y = outcomes\n",
    "\n",
    "fs = feature_scoring.get_feature_scores_all(x, y)\n",
    "sns.heatmap(fs, cmap='viridis', annot=True)\n",
    "plt.show()"
   ]
  },
  {
   "cell_type": "code",
   "execution_count": 49,
   "metadata": {},
   "outputs": [
    {
     "data": {
      "text/plain": [
       "{'precision': array([0.256828, 0.256828, 0.256828, 0.256828, 0.256828, 0.256828,\n",
       "        0.256828, 0.256828, 0.256828, 0.256828, 0.256828, 0.256828,\n",
       "        0.256828, 0.256828, 0.256828, 0.256828, 0.256828, 0.256828,\n",
       "        0.256828, 0.256828, 0.256828, 0.256828, 0.256828, 0.256828,\n",
       "        0.256828, 0.256828, 0.256828, 0.256828, 0.256828, 0.256828,\n",
       "        0.256828, 0.256828, 0.256828, 0.256828, 0.256828, 0.256828,\n",
       "        0.256828, 0.256828, 0.256828, 0.256828, 0.256828, 0.256828,\n",
       "        0.256828, 0.256828, 0.256828, 0.256828, 0.256828, 0.256828,\n",
       "        0.256828, 0.256828, 0.256828, 0.256828, 0.256828, 0.256828,\n",
       "        0.256828, 0.256828, 0.256828, 0.256828, 0.256828, 0.256828,\n",
       "        0.256828, 0.256828, 0.256828, 0.256828, 0.256828, 0.256828,\n",
       "        0.256828, 0.256828, 0.256828, 0.256828, 0.256828, 0.256828,\n",
       "        0.256828, 0.256828, 0.256828, 0.256828, 0.256828, 0.256828,\n",
       "        0.256828, 0.256828, 0.256828, 0.256828, 0.256828, 0.256828,\n",
       "        0.256828, 0.256828, 0.256828, 0.256828, 0.256828, 0.256828,\n",
       "        0.256828, 0.256828, 0.256828, 0.256828, 0.256828, 0.256828,\n",
       "        0.256828, 0.256828, 0.256828, 0.256828]),\n",
       " 'recall': array([0.65247411, 0.65247411, 0.65247411, 0.65247411, 0.65247411,\n",
       "        0.65247411, 0.65247411, 0.65247411, 0.65247411, 0.65247411,\n",
       "        0.65247411, 0.65247411, 0.65247411, 0.65247411, 0.65247411,\n",
       "        0.65247411, 0.65247411, 0.65247411, 0.65247411, 0.65247411,\n",
       "        0.65247411, 0.65247411, 0.65247411, 0.65247411, 0.65247411,\n",
       "        0.65247411, 0.65247411, 0.65247411, 0.65247411, 0.65247411,\n",
       "        0.65247411, 0.65247411, 0.65247411, 0.65247411, 0.65247411,\n",
       "        0.65247411, 0.65247411, 0.65247411, 0.65247411, 0.65247411,\n",
       "        0.65247411, 0.65247411, 0.65247411, 0.65247411, 0.65247411,\n",
       "        0.65247411, 0.65247411, 0.65247411, 0.65247411, 0.65247411,\n",
       "        0.65247411, 0.65247411, 0.65247411, 0.65247411, 0.65247411,\n",
       "        0.65247411, 0.65247411, 0.65247411, 0.65247411, 0.65247411,\n",
       "        0.65247411, 0.65247411, 0.65247411, 0.65247411, 0.65247411,\n",
       "        0.65247411, 0.65247411, 0.65247411, 0.65247411, 0.65247411,\n",
       "        0.65247411, 0.65247411, 0.65247411, 0.65247411, 0.65247411,\n",
       "        0.65247411, 0.65247411, 0.65247411, 0.65247411, 0.65247411,\n",
       "        0.65247411, 0.65247411, 0.65247411, 0.65247411, 0.65247411,\n",
       "        0.65247411, 0.65247411, 0.65247411, 0.65247411, 0.65247411,\n",
       "        0.65247411, 0.65247411, 0.65247411, 0.65247411, 0.65247411,\n",
       "        0.65247411, 0.65247411, 0.65247411, 0.65247411, 0.65247411]),\n",
       " 'accuracy': array([0.64841361, 0.64841361, 0.64841361, 0.64841361, 0.64841361,\n",
       "        0.64841361, 0.64841361, 0.64841361, 0.64841361, 0.64841361,\n",
       "        0.64841361, 0.64841361, 0.64841361, 0.64841361, 0.64841361,\n",
       "        0.64841361, 0.64841361, 0.64841361, 0.64841361, 0.64841361,\n",
       "        0.64841361, 0.64841361, 0.64841361, 0.64841361, 0.64841361,\n",
       "        0.64841361, 0.64841361, 0.64841361, 0.64841361, 0.64841361,\n",
       "        0.64841361, 0.64841361, 0.64841361, 0.64841361, 0.64841361,\n",
       "        0.64841361, 0.64841361, 0.64841361, 0.64841361, 0.64841361,\n",
       "        0.64841361, 0.64841361, 0.64841361, 0.64841361, 0.64841361,\n",
       "        0.64841361, 0.64841361, 0.64841361, 0.64841361, 0.64841361,\n",
       "        0.64841361, 0.64841361, 0.64841361, 0.64841361, 0.64841361,\n",
       "        0.64841361, 0.64841361, 0.64841361, 0.64841361, 0.64841361,\n",
       "        0.64841361, 0.64841361, 0.64841361, 0.64841361, 0.64841361,\n",
       "        0.64841361, 0.64841361, 0.64841361, 0.64841361, 0.64841361,\n",
       "        0.64841361, 0.64841361, 0.64841361, 0.64841361, 0.64841361,\n",
       "        0.64841361, 0.64841361, 0.64841361, 0.64841361, 0.64841361,\n",
       "        0.64841361, 0.64841361, 0.64841361, 0.64841361, 0.64841361,\n",
       "        0.64841361, 0.64841361, 0.64841361, 0.64841361, 0.64841361,\n",
       "        0.64841361, 0.64841361, 0.64841361, 0.64841361, 0.64841361,\n",
       "        0.64841361, 0.64841361, 0.64841361, 0.64841361, 0.64841361])}"
      ]
     },
     "execution_count": 49,
     "metadata": {},
     "output_type": "execute_result"
    }
   ],
   "source": [
    "outcomes"
   ]
  },
  {
   "cell_type": "code",
   "execution_count": null,
   "metadata": {},
   "outputs": [],
   "source": []
  },
  {
   "cell_type": "code",
   "execution_count": null,
   "metadata": {},
   "outputs": [],
   "source": []
  },
  {
   "cell_type": "code",
   "execution_count": null,
   "metadata": {},
   "outputs": [],
   "source": []
  },
  {
   "cell_type": "code",
   "execution_count": null,
   "metadata": {},
   "outputs": [],
   "source": []
  },
  {
   "cell_type": "code",
   "execution_count": null,
   "metadata": {},
   "outputs": [],
   "source": []
  },
  {
   "cell_type": "code",
   "execution_count": null,
   "metadata": {},
   "outputs": [],
   "source": []
  },
  {
   "cell_type": "code",
   "execution_count": null,
   "metadata": {},
   "outputs": [],
   "source": []
  },
  {
   "cell_type": "code",
   "execution_count": null,
   "metadata": {},
   "outputs": [],
   "source": []
  },
  {
   "cell_type": "code",
   "execution_count": null,
   "metadata": {},
   "outputs": [],
   "source": []
  }
 ],
 "metadata": {
  "kernelspec": {
   "display_name": "Python 3",
   "language": "python",
   "name": "python3"
  },
  "language_info": {
   "codemirror_mode": {
    "name": "ipython",
    "version": 3
   },
   "file_extension": ".py",
   "mimetype": "text/x-python",
   "name": "python",
   "nbconvert_exporter": "python",
   "pygments_lexer": "ipython3",
   "version": "3.8.5"
  }
 },
 "nbformat": 4,
 "nbformat_minor": 4
}
