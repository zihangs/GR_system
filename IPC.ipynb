{
 "cells": [
  {
   "cell_type": "markdown",
   "metadata": {},
   "source": [
    "# Calculate statistics for IPC domains\n",
    "\n",
    "This notebook calculates the performance statistics for our approach and also for `R&G` and `Landmark` approaches. Notice that the source csv from our approach and other approaches are slightly different, so we need to call different functions to run the codes.\n",
    "\n",
    "1. Our approach:\n",
    "2. Others:"
   ]
  },
  {
   "cell_type": "code",
   "execution_count": 1,
   "metadata": {},
   "outputs": [],
   "source": [
    "import pandas as pd \n",
    "import numpy as np\n",
    "from tabulate import tabulate\n",
    "\n",
    "\n",
    "def func_precision(stringList, answer):\n",
    "    goal_count = 0\n",
    "    found = 0\n",
    "    for result in stringList:\n",
    "        if result == str(answer):\n",
    "            found = 1\n",
    "        goal_count += 1\n",
    "    return found/(goal_count-1)\n",
    "\n",
    "def func_recall(stringList, answer):\n",
    "    found = 0\n",
    "    for result in stringList:\n",
    "        if result == str(answer):\n",
    "            found = 1\n",
    "            break\n",
    "    return found\n",
    "\n",
    "def func_accuracy(total, stringList, answer):\n",
    "    tp = 0\n",
    "    tn = 0\n",
    "    fp = 0\n",
    "    fn = 0\n",
    "    for result in stringList[0:-1]:\n",
    "        if result == str(answer):\n",
    "            tp += 1\n",
    "        else:\n",
    "            fp += 1\n",
    "    \n",
    "    fn = 1 - tp\n",
    "    \n",
    "    # total is the number of all goals\n",
    "    tn = total - tp - fp - fn\n",
    "    return (tp + tn)/(tn + tp + fp + fn)\n",
    "\n",
    "\n",
    "\n",
    "# Calculate P, R, A and T for one domain with a specific percentage of observation (all rows)\n",
    "def calculate_statistics(rows, approach = \"others\"):\n",
    "    length = rows.shape[0]\n",
    "    \n",
    "    precision = 0\n",
    "    recall = 0\n",
    "    accuracy = 0\n",
    "    time = 0\n",
    "        \n",
    "    for index, row in rows.iterrows():\n",
    "        \n",
    "        answer = row[\"Real_Goal\"]\n",
    "        \n",
    "        if row[\"Results\"] is np.nan:\n",
    "            p = 0\n",
    "            r = 0\n",
    "            a = 0\n",
    "        else:\n",
    "            results = row[\"Results\"].split(\"/\")\n",
    "\n",
    "            if approach == \"others\":   # other approaches\n",
    "                total = row[\"Candidates\"]\n",
    "            else:    # for our approach\n",
    "                all_candidates = row[\"Cost\"].split(\"/\")\n",
    "                total = len(all_candidates)-1   # the last one is /\n",
    "\n",
    "            p = func_precision(results, answer)\n",
    "            r = func_recall(results, answer)\n",
    "            a = func_accuracy(total, results, answer)\n",
    "        \n",
    "\n",
    "        t = row[\"Time\"]\n",
    "        precision += p\n",
    "        recall += r\n",
    "        accuracy += a\n",
    "        time += t\n",
    "        \n",
    "    precision = precision/length\n",
    "    recall = recall/length\n",
    "    accuracy = accuracy/length\n",
    "    time = time/length\n",
    "    \n",
    "    return precision, recall, accuracy, time"
   ]
  },
  {
   "cell_type": "markdown",
   "metadata": {},
   "source": [
    "### Codes for checking source_csv data structure\n",
    "\n",
    "Load a source_csv file from the correct path and project the table. The codes below is just an example for one source_csv file, you can check others by changing the path."
   ]
  },
  {
   "cell_type": "code",
   "execution_count": 6,
   "metadata": {},
   "outputs": [
    {
     "data": {
      "text/plain": [
       "312"
      ]
     },
     "execution_count": 6,
     "metadata": {},
     "output_type": "execute_result"
    }
   ],
   "source": [
    "source_csv = \"./comparison/our_default/dwr.csv\"\n",
    "source_csv = \"./comparison/landmarks/filter0/dwr.csv\"\n",
    "source_csv = \"./comparison/RG/dwr.csv\"\n",
    "data = pd.read_csv(source_csv)\n",
    "data.head(5)\n",
    "data.shape[0]"
   ]
  },
  {
   "cell_type": "markdown",
   "metadata": {},
   "source": [
    "### Code blocks for running statistical calculation iteratively"
   ]
  },
  {
   "cell_type": "code",
   "execution_count": 112,
   "metadata": {},
   "outputs": [],
   "source": [
    "domains = [\"blocks-world\", \"campus\", \"depots\", \"driverlog\", \"dwr\", \"easy-ipc-grid\", \"ferry\", \"intrusion-detection\", \n",
    "           \"kitchen\", \"logistics\", \"miconic\", \"rovers\", \"satellite\", \"sokoban\", \"zeno-travel\"]"
   ]
  },
  {
   "cell_type": "code",
   "execution_count": 274,
   "metadata": {},
   "outputs": [],
   "source": [
    "def display_stats(source_data, apporoach):\n",
    "    matrix = [] \n",
    "    for per in [10, 30, 50, 70, 100]:\n",
    "        rows = source_data.loc[source_data['Percent'] == per]\n",
    "        p,r,a,t = calculate_statistics(rows, apporoach)\n",
    "        matrix.append([p, r, a, t])\n",
    "\n",
    "    # table = tabulate(matrix, headers=[\"p\", \"r\", \"a\", \"t\"])\n",
    "    # print(table)\n",
    "    return matrix\n",
    "    \n",
    "def encode_tex(source_list, domain_list):\n",
    "    \n",
    "    empty_total = True\n",
    "    approach = \"our\"   # always measure first\n",
    "    count_app = 0\n",
    "    for source in source_list:\n",
    "        \n",
    "        empty_inner = True\n",
    "        for domain in domain_list:\n",
    "            source_csv = source + domain + \".csv\"\n",
    "            source_data = pd.read_csv(source_csv)\n",
    "            \n",
    "            m = np.matrix(display_stats(source_data, approach))\n",
    "        \n",
    "            if empty_inner:\n",
    "                inner_m = m\n",
    "                empty_inner = False\n",
    "            else:\n",
    "                inner_m = np.concatenate((inner_m, m))\n",
    "                \n",
    "        if empty_total:\n",
    "            total_m = inner_m\n",
    "            empty_total = False\n",
    "        else:\n",
    "            total_m = np.concatenate((total_m, inner_m), axis=1)\n",
    "        \n",
    "        count_app += 1\n",
    "        if count_app == 2:\n",
    "            approach = \"others\"\n",
    "        \n",
    "    return total_m"
   ]
  },
  {
   "cell_type": "code",
   "execution_count": 275,
   "metadata": {},
   "outputs": [],
   "source": [
    "domains = [\"blocks-world\", \"campus\", \"depots\", \"driverlog\", \"dwr\", \"easy-ipc-grid\", \"ferry\", \"intrusion-detection\", \n",
    "           \"kitchen\", \"logistics\", \"miconic\", \"rovers\", \"satellite\", \"sokoban\", \"zeno-travel\"]\n",
    "\n",
    "source_list = [\"./comparison/our_mid_points_topk/\", \"./comparison/our_default/\", \"./comparison/landmarks/filter0/\", \"./comparison/RG/\"]\n",
    "\n",
    "total_matrix = encode_tex(source_list, domains)"
   ]
  },
  {
   "cell_type": "code",
   "execution_count": 276,
   "metadata": {
    "scrolled": true
   },
   "outputs": [],
   "source": [
    "## export the table to csv\n",
    "# A = np.array(matrix)\n",
    "# np.savetxt(\"blocksworld.csv\", A, delimiter=\",\")"
   ]
  },
  {
   "cell_type": "code",
   "execution_count": 277,
   "metadata": {},
   "outputs": [
    {
     "name": "stdout",
     "output_type": "stream",
     "text": [
      "&10&0.0872&0.5202&0.5168&0.0592&0.0491&1.0&0.0491&0.0743&0.4078&0.4697&0.9353&0.4226&0.9899&1.0&0.9990&102.8212\\\\\n",
      "&30&0.2566&0.7222&0.7548&0.0682&0.0505&1.0&0.0587&0.0804&0.5042&0.5404&0.9475&0.4376&0.9899&1.0&0.9990&21.8386\\\\\n",
      "blocks-world&50&0.3442&0.7374&0.8406&0.0778&0.0731&1.0&0.2286&0.0784&0.6019&0.6616&0.9583&0.4532&0.9899&1.0&0.9990&11.9247\\\\\n",
      "&70&0.6113&0.8788&0.9328&0.0944&0.1831&0.9899&0.5684&0.0938&0.7820&0.8384&0.9761&0.5093&0.9848&1.0&0.9985&5.5898\\\\\n",
      "&100&0.8941&1.0&0.9857&0.1143&0.4569&1.0&0.8366&0.1128&0.8235&1.0&0.9764&0.5076&0.9803&1.0&0.9980&5.6161\\\\\n",
      "\\hline\n",
      "&10&0.5&1.0&0.5&0.0263&0.5&1.0&0.5&0.0279&0.8&0.8667&0.8&0.3590&1.0&1.0&1.0&0.1325\\\\\n",
      "&30&0.6333&0.8667&0.6333&0.0188&0.5&1.0&0.5&0.0186&0.8&0.8667&0.8&0.3778&1.0&1.0&1.0&0.1328\\\\\n",
      "campus&50&0.6&0.7333&0.6&0.0242&0.5&1.0&0.5&0.0293&0.8667&0.9333&0.8667&0.3556&1.0&1.0&1.0&0.1319\\\\\n",
      "&70&0.8&0.9333&0.8&0.0215&0.5667&1.0&0.5667&0.0265&1.0&1.0&1.0&0.3606&1.0&1.0&1.0&0.1366\\\\\n",
      "&100&0.9333&0.9333&0.9333&0.0257&0.8333&1.0&0.8333&0.0301&1.0&1.0&1.0&0.3610&1.0&1.0&1.0&0.1436\\\\\n",
      "\\hline\n",
      "&10&0.1681&0.84&0.3330&0.0299&0.1120&1.0&0.1120&0.0298&0.34&0.36&0.7880&0.8403&1.0&1.0&1.0&17.0379\\\\\n",
      "&30&0.4219&0.8333&0.6406&0.0250&0.1403&1.0&0.1875&0.0248&0.5660&0.6667&0.8906&0.8230&1.0&1.0&1.0&3.0970\\\\\n",
      "depots&50&0.5361&0.7083&0.8677&0.0268&0.2530&0.9583&0.4448&0.0272&0.7188&0.8333&0.9271&0.8205&1.0&1.0&1.0&4.8298\\\\\n",
      "&70&0.6750&0.8333&0.8937&0.0328&0.4140&0.9167&0.6969&0.0303&0.8125&0.8333&0.9542&0.8411&1.0&1.0&1.0&9.8210\\\\\n",
      "&100&0.8125&0.875&0.9594&0.0327&0.6667&0.875&0.9187&0.0339&0.9375&1.0&0.9875&0.8750&1.0&1.0&1.0&12.8447\\\\\n",
      "\\hline\n",
      "&10&0.2951&1.0&0.375&0.0353&0.125&1.0&0.125&0.0333&0.4583&0.5417&0.8333&0.4063&1.0&1.0&1.0&0.7031\\\\\n",
      "&30&0.4333&1.0&0.6354&0.0247&0.125&1.0&0.125&0.0239&0.5625&0.6667&0.8611&0.3956&1.0&1.0&1.0&1.5129\\\\\n",
      "driverlog&50&0.8472&1.0&0.9479&0.0223&0.2981&1.0&0.4479&0.0231&0.6146&0.7917&0.8698&0.3952&1.0&1.0&1.0&2.7966\\\\\n",
      "&70&0.8403&1.0&0.9375&0.0231&0.55&1.0&0.7812&0.0249&0.6597&0.8333&0.8802&0.4234&1.0&1.0&1.0&4.4870\\\\\n",
      "&100&0.875&1.0&0.9688&0.0261&0.8125&1.0&0.9062&0.0255&0.7292&1.0&0.9167&0.4338&1.0&1.0&1.0&8.7798\\\\\n",
      "\\hline\n",
      "&10&0.3139&0.5833&0.6404&0.0259&0.1952&0.8958&0.2871&0.0271&0.3194&0.3472&0.7889&0.9938&1.0&1.0&1.0&47.1129\\\\\n",
      "&30&0.4332&0.5625&0.7671&0.0316&0.3321&0.8958&0.5350&0.0306&0.5694&0.5972&0.8767&0.9795&1.0&1.0&1.0&294.4914\\\\\n",
      "dwr&50&0.7465&0.8958&0.8935&0.0445&0.6465&0.9583&0.7939&0.0412&0.6736&0.6944&0.9059&1.0490&1.0&1.0&1.0&681.6046\\\\\n",
      "&70&0.7917&0.9167&0.9368&0.0622&0.6969&0.9792&0.8565&0.0528&0.875&0.8889&0.9666&1.1544&1.0&1.0&1.0&886.4947\\\\\n",
      "&100&0.875&1.0&0.9688&0.0802&0.7708&1.0&0.9115&0.0620&1.0&1.0&1.0&1.2976&1.0&1.0&1.0&1162.5519\\\\\n",
      "\\hline\n",
      "&10&0.6733&0.95&0.8300&0.0171&0.2000&1.0&0.2000&0.0161&0.4571&0.6952&0.7514&0.5745&1.0&1.0&1.0&9.0587\\\\\n",
      "&30&0.875&1.0&0.95&0.0128&0.2796&1.0&0.3900&0.0112&0.7540&0.8762&0.8990&0.6466&1.0&1.0&1.0&2.8224\\\\\n",
      "easy-ipc-grid&50&0.9375&1.0&0.975&0.0121&0.6600&1.0&0.78&0.0107&0.9206&0.9714&0.9695&0.5990&1.0&1.0&1.0&1.1896\\\\\n",
      "&70&0.9875&1.0&0.9950&0.0140&0.7625&1.0&0.9050&0.0122&0.9762&0.9905&0.9952&0.6249&1.0&1.0&1.0&0.9426\\\\\n",
      "&100&1.0&1.0&1.0&0.0117&1.0&1.0&1.0&0.0122&1.0&1.0&1.0&0.6339&1.0&1.0&1.0&1.0282\\\\\n",
      "\\hline\n",
      "&10&0.2510&0.6667&0.5294&0.0187&0.1448&1.0&0.1448&0.0188&0.5118&0.6458&0.8160&0.3559&0.9375&1.0&0.9792&0.4550\\\\\n",
      "&30&0.3440&0.6667&0.6443&0.0159&0.1799&0.9722&0.2951&0.0148&0.6681&0.7708&0.7886&0.3633&0.9375&1.0&0.9792&0.7371\\\\\n",
      "ferry&50&0.3032&0.4722&0.7422&0.0162&0.3382&0.9722&0.5742&0.0165&0.7483&0.8542&0.8559&0.3690&0.9375&1.0&0.9792&1.3804\\\\\n",
      "&70&0.5833&0.6944&0.8745&0.0193&0.5745&0.9167&0.7932&0.0197&0.8090&0.875&0.8507&0.3942&0.9375&1.0&0.9792&2.9279\\\\\n",
      "&100&0.9167&1.0&0.9722&0.0208&0.8472&1.0&0.9340&0.0216&0.8125&0.875&0.8542&0.5227&0.9375&1.0&0.9792&7.8900\\\\\n",
      "\\hline\n",
      "&10&0.3719&0.5905&0.7971&0.0168&0.0695&0.6952&0.0390&0.0161&0.6127&0.7429&0.9429&0.4445&1.0&1.0&1.0&10.7401\\\\\n",
      "&30&0.4778&0.5429&0.8638&0.0154&0.1438&0.6667&0.3838&0.0143&0.9429&0.9524&0.9919&0.4497&1.0&1.0&1.0&1.8402\\\\\n",
      "intrusion-detection&50&0.4667&0.5048&0.8771&0.0142&0.2876&0.6095&0.7362&0.0141&0.9889&1.0&0.9981&0.5087&1.0&1.0&1.0&2.5327\\\\\n",
      "&70&0.5476&0.5524&0.8981&0.0140&0.4382&0.6&0.8257&0.0131&1.0&1.0&1.0&0.5284&1.0&1.0&1.0&3.7806\\\\\n",
      "&100&0.5111&0.5111&0.8933&0.0147&0.4800&0.5556&0.8444&0.0140&1.0&1.0&1.0&0.5309&1.0&1.0&1.0&7.7630\\\\\n",
      "\\hline\n",
      "&10&0.7&1.0&0.7556&0.0144&0.3333&1.0&0.3333&0.0148&0.6&0.8667&0.6889&0.3421&1.0&1.0&1.0&4.9288\\\\\n",
      "&30&0.9&1.0&0.9333&0.0064&0.4889&1.0&0.5111&0.0063&0.8333&0.9333&0.8889&0.3488&1.0&1.0&1.0&0.8589\\\\\n",
      "kitchen&50&0.9583&1.0&0.9722&0.0065&0.5556&1.0&0.5556&0.0052&0.9333&1.0&0.9556&0.3434&1.0&1.0&1.0&0.2571\\\\\n",
      "&70&0.9333&1.0&0.9556&0.0054&0.4444&1.0&0.4667&0.0050&0.9333&1.0&0.9556&0.3540&1.0&1.0&1.0&0.3000\\\\\n",
      "&100&0.9333&1.0&0.9556&0.0054&0.5556&1.0&0.6&0.0056&0.9333&1.0&0.9556&0.3598&1.0&1.0&1.0&0.6592\\\\\n",
      "\\hline\n",
      "&10&0.4087&0.7714&0.8010&0.0171&0.1000&1.0&0.1000&0.0178&0.4427&0.6581&0.8265&0.6318&1.0&1.0&1.0&24.8035\\\\\n",
      "&30&0.6190&0.7905&0.9143&0.0173&0.2980&0.9905&0.6514&0.0167&0.7664&0.8632&0.9393&0.6333&1.0&1.0&1.0&4.2077\\\\\n",
      "logistics&50&0.6952&0.7905&0.9257&0.0175&0.5441&0.9905&0.8438&0.0174&0.8561&0.9402&0.9684&0.6824&1.0&1.0&1.0&10.5002\\\\\n",
      "&70&0.7921&0.8571&0.9514&0.0183&0.7460&1.0&0.9324&0.0169&0.9658&0.9915&0.9932&0.7617&1.0&1.0&1.0&13.9896\\\\\n",
      "&100&0.9&0.9111&0.9756&0.0199&0.8593&1.0&0.9622&0.0193&1.0&1.0&1.0&0.7559&1.0&1.0&1.0&11.3111\\\\\n",
      "\\hline\n",
      "&10&0.2292&0.6042&0.6007&0.0217&0.1667&1.0&0.1667&0.0205&0.4528&0.65&0.7833&0.5472&1.0&1.0&1.0&3.4350\\\\\n",
      "&30&0.2931&0.4792&0.6979&0.0199&0.2017&0.8958&0.3681&0.0196&0.8778&0.9667&0.9556&0.5602&1.0&1.0&1.0&1.6309\\\\\n",
      "miconic&50&0.3837&0.5&0.7569&0.0220&0.3312&0.9167&0.5833&0.0207&0.95&0.9667&0.9833&0.5629&1.0&1.0&1.0&3.7783\\\\\n",
      "&70&0.5694&0.6042&0.8472&0.0259&0.5285&0.8333&0.7743&0.0236&0.9917&1.0&0.9972&0.5768&1.0&1.0&1.0&6.1150\\\\\n",
      "&100&0.6875&0.6875&0.8854&0.0243&0.7&0.8125&0.8646&0.0227&1.0&1.0&1.0&0.6247&1.0&1.0&1.0&14.0502\\\\\n",
      "\\hline\n",
      "&10&0.4236&0.9167&0.6528&0.0217&0.1667&1.0&0.1667&0.0212&0.3750&0.5&0.7685&0.4060&1.0&1.0&1.0&10.1419\\\\\n",
      "&30&0.4861&0.6667&0.8194&0.0106&0.1667&1.0&0.1667&0.0101&0.7037&0.8611&0.8843&0.4234&1.0&1.0&1.0&0.5836\\\\\n",
      "rovers&50&0.4722&0.75&0.7639&0.0106&0.1986&1.0&0.3056&0.0100&0.7963&0.8889&0.9120&0.3979&1.0&1.0&1.0&0.6706\\\\\n",
      "&70&0.6528&0.8333&0.8194&0.0093&0.425&1.0&0.6250&0.0091&0.9722&0.9722&0.9907&0.4115&1.0&1.0&1.0&0.8046\\\\\n",
      "&100&0.6667&1.0&0.8333&0.0100&0.3125&1.0&0.5833&0.0100&1.0&1.0&1.0&0.4185&1.0&1.0&1.0&1.0175\\\\\n",
      "\\hline\n",
      "&10&0.2356&0.75&0.4213&0.0250&0.1667&1.0&0.1667&0.0270&0.1940&0.5&0.4306&0.3799&0.9583&1.0&0.9861&6.8378\\\\\n",
      "&30&0.4699&0.8611&0.6620&0.0217&0.1653&0.9722&0.1806&0.0240&0.3875&0.6111&0.5926&0.3746&0.9583&1.0&0.9861&0.4591\\\\\n",
      "satellite&50&0.4727&0.8333&0.7593&0.0285&0.3231&1.0&0.4074&0.0277&0.6111&0.75&0.7546&0.3808&0.9583&1.0&0.9861&0.5058\\\\\n",
      "&70&0.5648&0.6944&0.8287&0.0302&0.4394&1.0&0.6389&0.0271&0.8333&0.8889&0.8889&0.3836&0.9583&1.0&0.9861&0.5810\\\\\n",
      "&100&0.625&0.75&0.8750&0.0306&0.5403&1.0&0.7083&0.0306&0.875&0.9167&0.9028&0.4004&0.9583&1.0&0.9861&0.7138\\\\\n",
      "\\hline\n",
      "&10&0.3234&0.5972&0.6363&0.0956&0.1926&0.9861&0.2157&0.0926&0.3056&0.5417&0.6826&1.2498&1.0&1.0&1.0&44.5194\\\\\n",
      "&30&0.4502&0.5556&0.8024&0.1714&0.4448&0.75&0.6969&0.1550&0.4900&0.6111&0.8119&1.2786&1.0&1.0&1.0&154.0123\\\\\n",
      "sokoban&50&0.4294&0.5278&0.8214&0.2659&0.4333&0.5972&0.7862&0.2542&0.5757&0.6944&0.8554&1.3417&1.0&1.0&1.0&268.2629\\\\\n",
      "&70&0.5903&0.625&0.8677&0.3954&0.6111&0.7083&0.8554&0.3455&0.8102&0.8472&0.9446&1.3560&1.0&1.0&1.0&365.1324\\\\\n",
      "&100&0.6042&0.625&0.8771&0.4320&0.6667&0.7083&0.8924&0.4534&1.0&1.0&1.0&1.6139&1.0&1.0&1.0&558.0096\\\\\n",
      "\\hline\n",
      "&10&0.3958&0.75&0.6806&0.0311&0.1667&1.0&0.1667&0.0326&0.3542&0.625&0.7240&0.5307&1.0&1.0&1.0&1.2961\\\\\n",
      "&30&0.7431&0.9167&0.875&0.0203&0.1736&1.0&0.1944&0.0211&0.5729&0.8333&0.8333&0.5324&1.0&1.0&1.0&1.8085\\\\\n",
      "zeno-travel&50&0.8194&0.9167&0.9306&0.0205&0.2472&1.0&0.3889&0.0217&0.75&0.8333&0.9149&0.5313&1.0&1.0&1.0&3.1042\\\\\n",
      "&70&0.8333&0.8333&0.9444&0.0213&0.4639&1.0&0.7361&0.0243&0.875&0.9167&0.9306&0.5477&1.0&1.0&1.0&5.9862\\\\\n",
      "&100&1.0&1.0&1.0&0.0242&0.75&1.0&0.9167&0.0254&1.0&1.0&1.0&0.6231&1.0&1.0&1.0&10.0743\\\\\n",
      "\\hline\n"
     ]
    }
   ],
   "source": [
    "rows = total_matrix.shape[0]\n",
    "\n",
    "copy_domains = [\"blocks-world\", \"campus\", \"depots\", \"driverlog\", \"dwr\", \"easy-ipc-grid\", \"ferry\", \"intrusion-detection\", \n",
    "           \"kitchen\", \"logistics\", \"miconic\", \"rovers\", \"satellite\", \"sokoban\", \"zeno-travel\"]\n",
    "\n",
    "percentage = [\"10\", \"30\", \"50\", \"70\", \"100\"]\n",
    "\n",
    "for row in range(rows):\n",
    "    if row % 5 == 2:\n",
    "        dn = copy_domains.pop(0)\n",
    "        print(dn, end=\"\")\n",
    "        \n",
    "    print(\"&\" + percentage[row % 5], end=\"\")\n",
    "    A = np.asarray(total_matrix[row]).reshape(-1)\n",
    "    for num in A:\n",
    "        # convert time to seconds\n",
    "        if num > 10000:\n",
    "            num = num / 1000000000\n",
    "        \n",
    "        # check decimal\n",
    "        if len(str(num).split(\".\")[1]) > 4:\n",
    "            print(\"&\" + \"{:.4f}\".format(num), end='')\n",
    "        else:\n",
    "            print(\"&\" + str(num), end='')\n",
    "            \n",
    "    print(\"\\\\\\\\\")\n",
    "    \n",
    "    if row % 5 == 4:\n",
    "        print(\"\\\\hline\")"
   ]
  },
  {
   "cell_type": "markdown",
   "metadata": {},
   "source": [
    "### Legacy codes"
   ]
  },
  {
   "cell_type": "code",
   "execution_count": 75,
   "metadata": {},
   "outputs": [
    {
     "name": "stdout",
     "output_type": "stream",
     "text": [
      "208\n",
      "48 49\n",
      "48 48\n",
      "48 48\n",
      "48 48\n"
     ]
    }
   ],
   "source": [
    "length = data.shape[0]\n",
    "percent = 10\n",
    "\n",
    "matrix = []\n",
    "temp_storage = [0,0,0,0] # p, r, accuracy, time\n",
    "num = 0\n",
    "\n",
    "count_goals = 0\n",
    "\n",
    "print(length)\n",
    "\n",
    "for index in range(length):\n",
    "    new_percent = data.loc[index, \"Percent\"]\n",
    "    answer = data.loc[index, \"Real_Goal\"]\n",
    "    results = data.loc[index, \"Results\"].split(\"/\")\n",
    "    \"\"\"\n",
    "    all_candidates = data.loc[index, \"Cost\"].split(\"/\")\n",
    "    total = len(all_candidates)-1   # the last one is /\n",
    "    \"\"\"\n",
    "    total = data.loc[index, \"Candidates\"]\n",
    "    p = func_precision(results, answer)\n",
    "    r = func_recall(results, answer)\n",
    "    a = func_accuracy(total, results, answer)\n",
    "    \n",
    "    if r == 0:\n",
    "        print(new_percent)\n",
    "    \n",
    "    count_goals += total\n",
    "    \n",
    "    time = data.loc[index, \"Time\"]\n",
    "    num += 1\n",
    "    \n",
    "    if (percent != new_percent):\n",
    "        print(temp_storage[1], num)\n",
    "        temp_storage[0] = temp_storage[0]/num\n",
    "        temp_storage[1] = temp_storage[1]/num\n",
    "        temp_storage[2] = temp_storage[2]/num\n",
    "        temp_storage[3] = temp_storage[3]/num\n",
    "        \n",
    "        matrix.append(temp_storage)\n",
    "        temp_storage = [0,0,0,0]\n",
    "        num = 0\n",
    "        percent = new_percent\n",
    "        \n",
    "        \n",
    "    temp_storage[0] += p\n",
    "    temp_storage[1] += r\n",
    "    temp_storage[2] += a\n",
    "    temp_storage[3] += time\n",
    "    \n",
    "num += 1\n",
    "temp_storage[0] = temp_storage[0]/num\n",
    "temp_storage[1] = temp_storage[1]/num\n",
    "temp_storage[2] = temp_storage[2]/num\n",
    "temp_storage[3] = temp_storage[3]/num   \n",
    "matrix.append(temp_storage)\n",
    "    \n",
    "    \n"
   ]
  },
  {
   "cell_type": "code",
   "execution_count": 115,
   "metadata": {},
   "outputs": [
    {
     "data": {
      "text/plain": [
       "[1, 2, 3, 4, 5, 6]"
      ]
     },
     "execution_count": 115,
     "metadata": {},
     "output_type": "execute_result"
    }
   ],
   "source": [
    "rrrr = [1,2,3]\n",
    "ttt = [4,5,6]\n",
    "\n",
    "rrrr+ttt"
   ]
  },
  {
   "cell_type": "code",
   "execution_count": 121,
   "metadata": {},
   "outputs": [],
   "source": [
    "m = np.matrix(matrix)\n",
    "n = np.matrix(matrix)"
   ]
  },
  {
   "cell_type": "code",
   "execution_count": 120,
   "metadata": {},
   "outputs": [
    {
     "data": {
      "text/plain": [
       "matrix([[0.9375    , 1.        , 0.97916667, 0.45499851],\n",
       "        [0.9375    , 1.        , 0.97916667, 0.73706695],\n",
       "        [0.9375    , 1.        , 0.97916667, 1.38035454],\n",
       "        [0.9375    , 1.        , 0.97916667, 2.92791591],\n",
       "        [0.9375    , 1.        , 0.97916667, 7.89003892]])"
      ]
     },
     "execution_count": 120,
     "metadata": {},
     "output_type": "execute_result"
    }
   ],
   "source": [
    "m"
   ]
  },
  {
   "cell_type": "code",
   "execution_count": 126,
   "metadata": {},
   "outputs": [
    {
     "data": {
      "text/plain": [
       "matrix([[0.9375    , 1.        , 0.97916667, 0.45499851, 0.9375    ,\n",
       "         1.        , 0.97916667, 0.45499851, 0.9375    , 1.        ,\n",
       "         0.97916667, 0.45499851],\n",
       "        [0.9375    , 1.        , 0.97916667, 0.73706695, 0.9375    ,\n",
       "         1.        , 0.97916667, 0.73706695, 0.9375    , 1.        ,\n",
       "         0.97916667, 0.73706695],\n",
       "        [0.9375    , 1.        , 0.97916667, 1.38035454, 0.9375    ,\n",
       "         1.        , 0.97916667, 1.38035454, 0.9375    , 1.        ,\n",
       "         0.97916667, 1.38035454],\n",
       "        [0.9375    , 1.        , 0.97916667, 2.92791591, 0.9375    ,\n",
       "         1.        , 0.97916667, 2.92791591, 0.9375    , 1.        ,\n",
       "         0.97916667, 2.92791591],\n",
       "        [0.9375    , 1.        , 0.97916667, 7.89003892, 0.9375    ,\n",
       "         1.        , 0.97916667, 7.89003892, 0.9375    , 1.        ,\n",
       "         0.97916667, 7.89003892]])"
      ]
     },
     "execution_count": 126,
     "metadata": {},
     "output_type": "execute_result"
    }
   ],
   "source": [
    "np.concatenate((m,n, n), axis=1)"
   ]
  },
  {
   "cell_type": "code",
   "execution_count": 135,
   "metadata": {},
   "outputs": [],
   "source": [
    "total_m = np.matrix((15*5, 1))"
   ]
  },
  {
   "cell_type": "code",
   "execution_count": 136,
   "metadata": {},
   "outputs": [
    {
     "data": {
      "text/plain": [
       "matrix([[75,  1]])"
      ]
     },
     "execution_count": 136,
     "metadata": {},
     "output_type": "execute_result"
    }
   ],
   "source": [
    "total_m"
   ]
  },
  {
   "cell_type": "code",
   "execution_count": 137,
   "metadata": {},
   "outputs": [
    {
     "ename": "TypeError",
     "evalue": "only integer scalar arrays can be converted to a scalar index",
     "output_type": "error",
     "traceback": [
      "\u001b[0;31m---------------------------------------------------------------------------\u001b[0m",
      "\u001b[0;31mTypeError\u001b[0m                                 Traceback (most recent call last)",
      "\u001b[0;32m<ipython-input-137-3d550596f8b6>\u001b[0m in \u001b[0;36m<module>\u001b[0;34m\u001b[0m\n\u001b[0;32m----> 1\u001b[0;31m \u001b[0mnp\u001b[0m\u001b[0;34m.\u001b[0m\u001b[0mconcatenate\u001b[0m\u001b[0;34m(\u001b[0m\u001b[0mtotal_m\u001b[0m\u001b[0;34m,\u001b[0m \u001b[0mm\u001b[0m\u001b[0;34m)\u001b[0m\u001b[0;34m\u001b[0m\u001b[0;34m\u001b[0m\u001b[0m\n\u001b[0m",
      "\u001b[0;32m<__array_function__ internals>\u001b[0m in \u001b[0;36mconcatenate\u001b[0;34m(*args, **kwargs)\u001b[0m\n",
      "\u001b[0;31mTypeError\u001b[0m: only integer scalar arrays can be converted to a scalar index"
     ]
    }
   ],
   "source": [
    "np.concatenate(total_m, m)"
   ]
  },
  {
   "cell_type": "code",
   "execution_count": null,
   "metadata": {},
   "outputs": [],
   "source": []
  },
  {
   "cell_type": "code",
   "execution_count": 114,
   "metadata": {},
   "outputs": [
    {
     "name": "stdout",
     "output_type": "stream",
     "text": [
      "blocks-world\n",
      "       p         r         a         t\n",
      "--------  --------  --------  --------\n",
      "0.407828  0.469697  0.935257  0.422569\n",
      "0.504209  0.540404  0.947499  0.437558\n",
      "0.601852  0.661616  0.958345  0.453212\n",
      "0.781987  0.838384  0.976094  0.509276\n",
      "0.823465  1         0.976441  0.507588\n",
      "campus\n",
      "       p         r         a         t\n",
      "--------  --------  --------  --------\n",
      "0.8       0.866667  0.8       0.358956\n",
      "0.8       0.866667  0.8       0.377834\n",
      "0.866667  0.933333  0.866667  0.355641\n",
      "1         1         1         0.360626\n",
      "1         1         1         0.361002\n",
      "depots\n",
      "       p         r         a         t\n",
      "--------  --------  --------  --------\n",
      "0.34      0.36      0.788     0.840311\n",
      "0.565972  0.666667  0.890625  0.822957\n",
      "0.71875   0.833333  0.927083  0.82046\n",
      "0.8125    0.833333  0.954167  0.84114\n",
      "0.9375    1         0.9875    0.874982\n",
      "driverlog\n",
      "       p         r         a         t\n",
      "--------  --------  --------  --------\n",
      "0.458333  0.541667  0.833333  0.406346\n",
      "0.5625    0.666667  0.861111  0.395594\n",
      "0.614583  0.791667  0.869792  0.395166\n",
      "0.659722  0.833333  0.880208  0.423437\n",
      "0.729167  1         0.916667  0.43384\n",
      "dwr\n",
      "       p         r         a         t\n",
      "--------  --------  --------  --------\n",
      "0.319444  0.347222  0.788856  0.99376\n",
      "0.569444  0.597222  0.876736  0.979535\n",
      "0.673611  0.694444  0.905919  1.04903\n",
      "0.875     0.888889  0.966601  1.15436\n",
      "1         1         1         1.29763\n",
      "easy-ipc-grid\n",
      "       p         r         a         t\n",
      "--------  --------  --------  --------\n",
      "0.457143  0.695238  0.751429  0.574509\n",
      "0.753968  0.87619   0.899048  0.646575\n",
      "0.920635  0.971429  0.969524  0.598982\n",
      "0.97619   0.990476  0.995238  0.624922\n",
      "1         1         1         0.633947\n",
      "ferry\n",
      "       p         r         a         t\n",
      "--------  --------  --------  --------\n",
      "0.511806  0.645833  0.815972  0.355857\n",
      "0.668056  0.770833  0.788566  0.363297\n",
      "0.748264  0.854167  0.855903  0.368972\n",
      "0.809028  0.875     0.850694  0.394166\n",
      "0.8125    0.875     0.854167  0.522719\n",
      "intrusion-detection\n",
      "       p         r         a         t\n",
      "--------  --------  --------  --------\n",
      "0.612698  0.742857  0.942857  0.444481\n",
      "0.942857  0.952381  0.991905  0.449658\n",
      "0.988889  1         0.998095  0.508687\n",
      "1         1         1         0.52844\n",
      "1         1         1         0.5309\n",
      "kitchen\n",
      "       p         r         a         t\n",
      "--------  --------  --------  --------\n",
      "0.6       0.866667  0.688889  0.342109\n",
      "0.833333  0.933333  0.888889  0.348818\n",
      "0.933333  1         0.955556  0.343425\n",
      "0.933333  1         0.955556  0.353994\n",
      "0.933333  1         0.955556  0.359758\n",
      "logistics\n",
      "       p         r         a         t\n",
      "--------  --------  --------  --------\n",
      "0.442735  0.65812   0.826496  0.631846\n",
      "0.766382  0.863248  0.939316  0.633339\n",
      "0.856125  0.940171  0.968376  0.682448\n",
      "0.965812  0.991453  0.993162  0.761746\n",
      "1         1         1         0.755883\n",
      "miconic\n",
      "       p         r         a         t\n",
      "--------  --------  --------  --------\n",
      "0.452778  0.65      0.783333  0.547219\n",
      "0.877778  0.966667  0.955556  0.560186\n",
      "0.95      0.966667  0.983333  0.562942\n",
      "0.991667  1         0.997222  0.576761\n",
      "1         1         1         0.624683\n",
      "rovers\n",
      "       p         r         a         t\n",
      "--------  --------  --------  --------\n",
      "0.375     0.5       0.768519  0.405992\n",
      "0.703704  0.861111  0.884259  0.423408\n",
      "0.796296  0.888889  0.912037  0.397897\n",
      "0.972222  0.972222  0.990741  0.411522\n",
      "1         1         1         0.418531\n",
      "satellite\n",
      "       p         r         a         t\n",
      "--------  --------  --------  --------\n",
      "0.193981  0.5       0.430556  0.379948\n",
      "0.3875    0.611111  0.592593  0.374628\n",
      "0.611111  0.75      0.75463   0.380778\n",
      "0.833333  0.888889  0.888889  0.383566\n",
      "0.875     0.916667  0.902778  0.400357\n",
      "sokoban\n",
      "       p         r         a        t\n",
      "--------  --------  --------  -------\n",
      "0.305556  0.541667  0.682639  1.24982\n",
      "0.490046  0.611111  0.811921  1.27858\n",
      "0.575694  0.694444  0.85544   1.34173\n",
      "0.810185  0.847222  0.94456   1.35604\n",
      "1         1         1         1.61394\n",
      "zeno-travel\n",
      "       p         r         a         t\n",
      "--------  --------  --------  --------\n",
      "0.354167  0.625     0.723958  0.530722\n",
      "0.572917  0.833333  0.833333  0.532378\n",
      "0.75      0.833333  0.914931  0.531348\n",
      "0.875     0.916667  0.930556  0.547651\n",
      "1         1         1         0.623101\n"
     ]
    }
   ],
   "source": [
    "domains = [\"blocks-world\", \"campus\", \"depots\", \"driverlog\", \"dwr\", \"easy-ipc-grid\", \"ferry\", \"intrusion-detection\", \n",
    "           \"kitchen\", \"logistics\", \"miconic\", \"rovers\", \"satellite\", \"sokoban\", \"zeno-travel\"]\n",
    "\n",
    "for domain in domains:\n",
    "    source_csv = \"./comparison/landmarks/filter0/\" + domain + \".csv\"\n",
    "    data = pd.read_csv(source_csv)\n",
    "    display_stats(domain)"
   ]
  },
  {
   "cell_type": "code",
   "execution_count": null,
   "metadata": {},
   "outputs": [],
   "source": []
  }
 ],
 "metadata": {
  "kernelspec": {
   "display_name": "Python 3",
   "language": "python",
   "name": "python3"
  },
  "language_info": {
   "codemirror_mode": {
    "name": "ipython",
    "version": 3
   },
   "file_extension": ".py",
   "mimetype": "text/x-python",
   "name": "python",
   "nbconvert_exporter": "python",
   "pygments_lexer": "ipython3",
   "version": "3.8.6"
  }
 },
 "nbformat": 4,
 "nbformat_minor": 2
}
