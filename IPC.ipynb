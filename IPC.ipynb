{
 "cells": [
  {
   "cell_type": "code",
   "execution_count": 31,
   "metadata": {},
   "outputs": [],
   "source": [
    "import pandas as pd \n",
    "import numpy as np\n",
    "from tabulate import tabulate\n",
    "data = pd.read_csv(\"./outputs/blocks-world-ori.csv\")"
   ]
  },
  {
   "cell_type": "code",
   "execution_count": 32,
   "metadata": {},
   "outputs": [
    {
     "data": {
      "text/html": [
       "<div>\n",
       "<style scoped>\n",
       "    .dataframe tbody tr th:only-of-type {\n",
       "        vertical-align: middle;\n",
       "    }\n",
       "\n",
       "    .dataframe tbody tr th {\n",
       "        vertical-align: top;\n",
       "    }\n",
       "\n",
       "    .dataframe thead th {\n",
       "        text-align: right;\n",
       "    }\n",
       "</style>\n",
       "<table border=\"1\" class=\"dataframe\">\n",
       "  <thead>\n",
       "    <tr style=\"text-align: right;\">\n",
       "      <th></th>\n",
       "      <th>Percent</th>\n",
       "      <th>Real_Goal</th>\n",
       "      <th>Time</th>\n",
       "      <th>Cost</th>\n",
       "      <th>Prob</th>\n",
       "      <th>Results</th>\n",
       "    </tr>\n",
       "  </thead>\n",
       "  <tbody>\n",
       "    <tr>\n",
       "      <th>0</th>\n",
       "      <td>10</td>\n",
       "      <td>0</td>\n",
       "      <td>267520804</td>\n",
       "      <td>51/50/50/50/51/50/51/51/50/51/50/50/50/51/50/5...</td>\n",
       "      <td>0.04699862381471914/0.04792925952121189/0.0479...</td>\n",
       "      <td>1/2/3/5/8/10/11/12/14/15/16/18/19/20/</td>\n",
       "    </tr>\n",
       "    <tr>\n",
       "      <th>1</th>\n",
       "      <td>10</td>\n",
       "      <td>1</td>\n",
       "      <td>44326438</td>\n",
       "      <td>51/50/51/51/51/51/51/51/51/51/51/51/51/51/51/5...</td>\n",
       "      <td>0.04752941465940805/0.04847056073562341/0.0475...</td>\n",
       "      <td>1/18/</td>\n",
       "    </tr>\n",
       "    <tr>\n",
       "      <th>2</th>\n",
       "      <td>10</td>\n",
       "      <td>0</td>\n",
       "      <td>56766524</td>\n",
       "      <td>54/54/53/54/53/54/53/50/53/53/53/54/53/51/51/5...</td>\n",
       "      <td>0.04877251016211816/0.04877251016211816/0.0497...</td>\n",
       "      <td>7/19/</td>\n",
       "    </tr>\n",
       "    <tr>\n",
       "      <th>3</th>\n",
       "      <td>10</td>\n",
       "      <td>16</td>\n",
       "      <td>38777939</td>\n",
       "      <td>51/51/51/51/51/51/51/51/51/51/51/51/51/51/51/5...</td>\n",
       "      <td>0.05/0.05/0.05/0.05/0.05/0.05/0.05/0.05/0.05/0...</td>\n",
       "      <td>0/1/2/3/4/5/6/7/8/9/10/11/12/13/14/15/16/17/18...</td>\n",
       "    </tr>\n",
       "    <tr>\n",
       "      <th>4</th>\n",
       "      <td>10</td>\n",
       "      <td>16</td>\n",
       "      <td>54296119</td>\n",
       "      <td>51/51/51/51/51/51/51/51/51/51/51/51/51/51/51/5...</td>\n",
       "      <td>0.05/0.05/0.05/0.05/0.05/0.05/0.05/0.05/0.05/0...</td>\n",
       "      <td>0/1/2/3/4/5/6/7/8/9/10/11/12/13/14/15/16/17/18...</td>\n",
       "    </tr>\n",
       "  </tbody>\n",
       "</table>\n",
       "</div>"
      ],
      "text/plain": [
       "   Percent  Real_Goal       Time  \\\n",
       "0       10          0  267520804   \n",
       "1       10          1   44326438   \n",
       "2       10          0   56766524   \n",
       "3       10         16   38777939   \n",
       "4       10         16   54296119   \n",
       "\n",
       "                                                Cost  \\\n",
       "0  51/50/50/50/51/50/51/51/50/51/50/50/50/51/50/5...   \n",
       "1  51/50/51/51/51/51/51/51/51/51/51/51/51/51/51/5...   \n",
       "2  54/54/53/54/53/54/53/50/53/53/53/54/53/51/51/5...   \n",
       "3  51/51/51/51/51/51/51/51/51/51/51/51/51/51/51/5...   \n",
       "4  51/51/51/51/51/51/51/51/51/51/51/51/51/51/51/5...   \n",
       "\n",
       "                                                Prob  \\\n",
       "0  0.04699862381471914/0.04792925952121189/0.0479...   \n",
       "1  0.04752941465940805/0.04847056073562341/0.0475...   \n",
       "2  0.04877251016211816/0.04877251016211816/0.0497...   \n",
       "3  0.05/0.05/0.05/0.05/0.05/0.05/0.05/0.05/0.05/0...   \n",
       "4  0.05/0.05/0.05/0.05/0.05/0.05/0.05/0.05/0.05/0...   \n",
       "\n",
       "                                             Results  \n",
       "0              1/2/3/5/8/10/11/12/14/15/16/18/19/20/  \n",
       "1                                              1/18/  \n",
       "2                                              7/19/  \n",
       "3  0/1/2/3/4/5/6/7/8/9/10/11/12/13/14/15/16/17/18...  \n",
       "4  0/1/2/3/4/5/6/7/8/9/10/11/12/13/14/15/16/17/18...  "
      ]
     },
     "execution_count": 32,
     "metadata": {},
     "output_type": "execute_result"
    }
   ],
   "source": [
    "data.head(5)"
   ]
  },
  {
   "cell_type": "code",
   "execution_count": 33,
   "metadata": {},
   "outputs": [],
   "source": [
    "def precision(stringList, answer):\n",
    "    goal_count = 0\n",
    "    found = 0\n",
    "    for result in stringList:\n",
    "        if result == str(answer):\n",
    "            found = 1\n",
    "        goal_count += 1\n",
    "    return found/(goal_count-1)\n",
    "\n",
    "def recall(stringList, answer):\n",
    "    found = 0\n",
    "    for result in stringList:\n",
    "        if result == str(answer):\n",
    "            found = 1\n",
    "            break\n",
    "    return found\n",
    "\n",
    "def accuracy(total, stringList, answer):\n",
    "    tp = 0\n",
    "    tn = 0\n",
    "    fp = 0\n",
    "    fn = 0\n",
    "    for result in stringList[0:-1]:\n",
    "        if result == str(answer):\n",
    "            tp += 1\n",
    "        else:\n",
    "            fp += 1\n",
    "    \n",
    "    fn = 1 - tp\n",
    "    \n",
    "    # total is the number of all goals\n",
    "    tn = total - tp - fp - fn\n",
    "    return (tp + tn)/(tn + tp + fp + fn)"
   ]
  },
  {
   "cell_type": "code",
   "execution_count": 34,
   "metadata": {},
   "outputs": [
    {
     "data": {
      "text/plain": [
       "868"
      ]
     },
     "execution_count": 34,
     "metadata": {},
     "output_type": "execute_result"
    }
   ],
   "source": [
    "length = data.shape[0]\n",
    "length"
   ]
  },
  {
   "cell_type": "code",
   "execution_count": 35,
   "metadata": {},
   "outputs": [],
   "source": [
    "percent = 10\n",
    "\n",
    "matrix = []\n",
    "temp_storage = [0,0,0,0] # p, r, accuracy, time\n",
    "num = 0\n",
    "\n",
    "count_goals = 0\n",
    "\n",
    "for index in range(length):\n",
    "    new_percent = data.loc[index, \"Percent\"]\n",
    "    answer = data.loc[index, \"Real_Goal\"]\n",
    "    results = data.loc[index, \"Results\"].split(\"/\")\n",
    "    all_candidates = data.loc[index, \"Cost\"].split(\"/\")\n",
    "    total = len(all_candidates)-1   # the last one is /\n",
    "    p = precision(results, answer)\n",
    "    r = recall(results, answer)\n",
    "    a = accuracy(total, results, answer)\n",
    "    \n",
    "    count_goals += total\n",
    "    \n",
    "    time = data.loc[index, \"Time\"]\n",
    "    num += 1\n",
    "    \n",
    "    if (percent != new_percent):\n",
    "        temp_storage[0] = temp_storage[0]/num\n",
    "        temp_storage[1] = temp_storage[1]/num\n",
    "        temp_storage[2] = temp_storage[2]/num\n",
    "        temp_storage[3] = temp_storage[3]/num\n",
    "        \n",
    "        matrix.append(temp_storage)\n",
    "        temp_storage = [0,0,0,0]\n",
    "        num = 0\n",
    "        percent = new_percent\n",
    "        \n",
    "        \n",
    "    temp_storage[0] += p\n",
    "    temp_storage[1] += r\n",
    "    temp_storage[2] += a\n",
    "    temp_storage[3] += time\n",
    "    \n",
    "num += 1\n",
    "temp_storage[0] = temp_storage[0]/num\n",
    "temp_storage[1] = temp_storage[1]/num\n",
    "temp_storage[2] = temp_storage[2]/num\n",
    "temp_storage[3] = temp_storage[3]/num   \n",
    "matrix.append(temp_storage)\n",
    "    \n",
    "    \n"
   ]
  },
  {
   "cell_type": "code",
   "execution_count": 36,
   "metadata": {
    "scrolled": true
   },
   "outputs": [
    {
     "name": "stdout",
     "output_type": "stream",
     "text": [
      "        p         r         a            t\n",
      "---------  --------  --------  -----------\n",
      "0.0681381  0.623116  0.423247  2.78874e+07\n",
      "0.154436   0.636364  0.591438  2.55775e+07\n",
      "0.226117   0.626263  0.676239  2.82001e+07\n",
      "0.349702   0.580808  0.786448  3.48219e+07\n",
      "0.82193    0.934211  0.961999  5.30252e+07\n"
     ]
    }
   ],
   "source": [
    "table = tabulate(matrix, headers=[\"p\", \"r\", \"a\", \"t\"])\n",
    "print(table)"
   ]
  },
  {
   "cell_type": "code",
   "execution_count": 17,
   "metadata": {
    "scrolled": true
   },
   "outputs": [],
   "source": [
    "## export the table to csv\n",
    "# A = np.array(matrix)\n",
    "# np.savetxt(\"blocksworld.csv\", A, delimiter=\",\")"
   ]
  },
  {
   "cell_type": "code",
   "execution_count": null,
   "metadata": {},
   "outputs": [],
   "source": []
  }
 ],
 "metadata": {
  "kernelspec": {
   "display_name": "Python 3",
   "language": "python",
   "name": "python3"
  },
  "language_info": {
   "codemirror_mode": {
    "name": "ipython",
    "version": 3
   },
   "file_extension": ".py",
   "mimetype": "text/x-python",
   "name": "python",
   "nbconvert_exporter": "python",
   "pygments_lexer": "ipython3",
   "version": "3.8.6"
  }
 },
 "nbformat": 4,
 "nbformat_minor": 2
}
